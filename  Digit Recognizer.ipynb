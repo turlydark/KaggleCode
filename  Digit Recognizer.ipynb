{
 "cells": [
  {
   "cell_type": "code",
   "execution_count": 70,
   "metadata": {
    "collapsed": false
   },
   "outputs": [
    {
     "name": "stdout",
     "output_type": "stream",
     "text": [
      "(42000, 785)\n"
     ]
    }
   ],
   "source": [
    "import pandas as pd\n",
    "from keras import models\n",
    "from keras import layers\n",
    "import numpy as np\n",
    "\n",
    "train = pd.read_csv(r'C:\\Users\\98766\\Desktop\\digit_recognizer\\train.csv')\n",
    "test = pd.read_csv(r'C:\\Users\\98766\\Desktop\\digit_recognizer\\test.csv')\n",
    "\n",
    "print(np.shape(train))\n",
    "# print(train)"
   ]
  },
  {
   "cell_type": "markdown",
   "metadata": {},
   "source": [
    "获取42000个数字的标签"
   ]
  },
  {
   "cell_type": "code",
   "execution_count": 71,
   "metadata": {
    "collapsed": false
   },
   "outputs": [
    {
     "name": "stdout",
     "output_type": "stream",
     "text": [
      "[1 0 1 ... 7 6 9]\n",
      "(42000,)\n"
     ]
    }
   ],
   "source": [
    "matrix_train = np.array(train)\n",
    "\n",
    "print(matrix_train[:,0])\n",
    "print(np.shape(matrix_train[:,0]))"
   ]
  },
  {
   "cell_type": "markdown",
   "metadata": {},
   "source": [
    "将DataFrame格式转为array后，将train_lables与train_data分为两个矩阵"
   ]
  },
  {
   "cell_type": "code",
   "execution_count": 72,
   "metadata": {
    "collapsed": false
   },
   "outputs": [
    {
     "name": "stdout",
     "output_type": "stream",
     "text": [
      "(42000, 784)\n",
      "(42000,)\n"
     ]
    }
   ],
   "source": [
    "train_data = matrix_train[:, 1:]\n",
    "train_labels = matrix_train[:, 0]\n",
    "print(np.shape(train_data))\n",
    "print(np.shape(train_labels))"
   ]
  },
  {
   "cell_type": "code",
   "execution_count": 80,
   "metadata": {
    "collapsed": false
   },
   "outputs": [
    {
     "name": "stdout",
     "output_type": "stream",
     "text": [
      "(28000, 784)\n"
     ]
    }
   ],
   "source": [
    "matrix_test = np.array(test)\n",
    "# print(np.shape(matrix_test))\n",
    "\n",
    "test_data = matrix_test\n",
    "print(np.shape(test_data))"
   ]
  },
  {
   "cell_type": "code",
   "execution_count": 82,
   "metadata": {
    "collapsed": false
   },
   "outputs": [],
   "source": [
    "train_data = train_data.reshape((42000, 28, 28, 1))\n",
    "train_data = train_data.astype('float32') / 255\n",
    "\n",
    "test_data = test_data.reshape((28000, 28, 28, 1))\n",
    "test_data = test_data.astype('float32') / 255"
   ]
  },
  {
   "cell_type": "code",
   "execution_count": 87,
   "metadata": {
    "collapsed": false,
    "scrolled": true
   },
   "outputs": [
    {
     "name": "stdout",
     "output_type": "stream",
     "text": [
      "(42000, 28, 28, 1)\n",
      "(28000, 28, 28, 1)\n"
     ]
    }
   ],
   "source": [
    "print(train_data.shape)\n",
    "print(test_data.shape)"
   ]
  },
  {
   "cell_type": "code",
   "execution_count": 91,
   "metadata": {
    "collapsed": true
   },
   "outputs": [],
   "source": [
    "model = models.Sequential()\n",
    "model.add(layers.Conv2D(32, (3, 3), activation = 'relu', input_shape = (28, 28, 1)))\n",
    "model.add(layers.MaxPooling2D((2, 2)))\n",
    "model.add(layers.Conv2D(64, (3, 3), activation = 'relu'))\n",
    "model.add(layers.MaxPooling2D((2, 2)))\n",
    "model.add(layers.Conv2D(64, (3, 3), activation = 'relu'))\n",
    "\n",
    "model.add(layers.Flatten())\n",
    "model.add(layers.Dense(64, activation = 'relu'))\n",
    "model.add(layers.Dense(10, activation = 'softmax'))"
   ]
  },
  {
   "cell_type": "code",
   "execution_count": 95,
   "metadata": {
    "collapsed": false
   },
   "outputs": [],
   "source": [
    "from keras.utils import to_categorical\n",
    "\n",
    "model.compile(optimizer = 'rmsprop',\n",
    "             loss = 'categorical_crossentropy',\n",
    "             metrics = ['accuracy'])\n",
    "train_labels = to_categorical(train_labels)"
   ]
  },
  {
   "cell_type": "code",
   "execution_count": 97,
   "metadata": {
    "collapsed": false
   },
   "outputs": [
    {
     "name": "stdout",
     "output_type": "stream",
     "text": [
      "Epoch 1/5\n",
      "42000/42000 [==============================] - 52s 1ms/step - loss: 0.2107 - acc: 0.9330\n",
      "Epoch 2/5\n",
      "42000/42000 [==============================] - 48s 1ms/step - loss: 0.0554 - acc: 0.9829\n",
      "Epoch 3/5\n",
      "42000/42000 [==============================] - 47s 1ms/step - loss: 0.0377 - acc: 0.9880\n",
      "Epoch 4/5\n",
      "42000/42000 [==============================] - 45s 1ms/step - loss: 0.0277 - acc: 0.9910\n",
      "Epoch 5/5\n",
      "42000/42000 [==============================] - 45s 1ms/step - loss: 0.0222 - acc: 0.9928\n"
     ]
    },
    {
     "data": {
      "text/plain": [
       "<keras.callbacks.History at 0x1ffef660ef0>"
      ]
     },
     "execution_count": 97,
     "metadata": {},
     "output_type": "execute_result"
    }
   ],
   "source": [
    "model.fit(train_data, train_labels, epochs = 5, batch_size = 64)"
   ]
  },
  {
   "cell_type": "code",
   "execution_count": 114,
   "metadata": {
    "collapsed": false
   },
   "outputs": [
    {
     "data": {
      "text/plain": [
       "array([[7.59925040e-11, 1.36920995e-11, 1.00000000e+00, ...,\n",
       "        4.29658115e-10, 4.39329614e-11, 1.46485793e-14],\n",
       "       [9.99999642e-01, 3.90255397e-11, 1.48759597e-07, ...,\n",
       "        1.18138765e-09, 3.82478405e-09, 9.15689711e-08],\n",
       "       [1.09676088e-10, 6.55351329e-09, 4.87750151e-09, ...,\n",
       "        3.19772013e-08, 2.09076115e-05, 9.99802649e-01],\n",
       "       ...,\n",
       "       [3.46862440e-17, 5.48330966e-13, 2.97547056e-12, ...,\n",
       "        1.94214263e-11, 1.10282456e-13, 2.55544365e-13],\n",
       "       [6.38836373e-10, 6.43880327e-09, 1.44304058e-09, ...,\n",
       "        3.09212602e-08, 5.81907670e-07, 9.98477757e-01],\n",
       "       [2.47985226e-12, 2.33079337e-11, 1.00000000e+00, ...,\n",
       "        1.46779755e-10, 1.70961606e-10, 3.75092489e-15]], dtype=float32)"
      ]
     },
     "execution_count": 114,
     "metadata": {},
     "output_type": "execute_result"
    }
   ],
   "source": [
    "a = model.predict(test_data)\n",
    "a"
   ]
  },
  {
   "cell_type": "code",
   "execution_count": 112,
   "metadata": {
    "collapsed": false
   },
   "outputs": [
    {
     "data": {
      "text/plain": [
       "(28000, 10)"
      ]
     },
     "execution_count": 112,
     "metadata": {},
     "output_type": "execute_result"
    }
   ],
   "source": [
    "a.shape"
   ]
  },
  {
   "cell_type": "code",
   "execution_count": 153,
   "metadata": {
    "collapsed": false
   },
   "outputs": [
    {
     "name": "stdout",
     "output_type": "stream",
     "text": [
      "(28000, 1)\n"
     ]
    }
   ],
   "source": [
    "b = np.argmax(a,axis = 1)\n",
    "b = b.reshape((28000,1))\n",
    "print(b.shape)\n",
    "# print(b)"
   ]
  },
  {
   "cell_type": "code",
   "execution_count": 154,
   "metadata": {
    "collapsed": false
   },
   "outputs": [
    {
     "name": "stdout",
     "output_type": "stream",
     "text": [
      "(28000, 1)\n"
     ]
    }
   ],
   "source": [
    "c = np.arange(1, 28001).reshape((28000,1))\n",
    "print(c.shape)\n",
    "# print(c)"
   ]
  },
  {
   "cell_type": "code",
   "execution_count": 156,
   "metadata": {
    "collapsed": false
   },
   "outputs": [
    {
     "data": {
      "text/plain": [
       "(28000, 2)"
      ]
     },
     "execution_count": 156,
     "metadata": {},
     "output_type": "execute_result"
    }
   ],
   "source": [
    "d = np.hstack((c,b))\n",
    "d.shape"
   ]
  },
  {
   "cell_type": "code",
   "execution_count": 158,
   "metadata": {
    "collapsed": false
   },
   "outputs": [],
   "source": [
    "import pandas as pd\n",
    "\n",
    "data = pd.DataFrame(d, columns = ['ImageId', 'Label'])\n",
    "# print(data)\n",
    "data.to_csv('data.csv', index = 0)"
   ]
  }
 ],
 "metadata": {
  "kernelspec": {
   "display_name": "Python [conda root]",
   "language": "python",
   "name": "conda-root-py"
  },
  "language_info": {
   "codemirror_mode": {
    "name": "ipython",
    "version": 3
   },
   "file_extension": ".py",
   "mimetype": "text/x-python",
   "name": "python",
   "nbconvert_exporter": "python",
   "pygments_lexer": "ipython3",
   "version": "3.5.2"
  }
 },
 "nbformat": 4,
 "nbformat_minor": 1
}
